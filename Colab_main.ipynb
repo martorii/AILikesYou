{
  "nbformat": 4,
  "nbformat_minor": 0,
  "metadata": {
    "colab": {
      "name": "Untitled1.ipynb",
      "version": "0.3.2",
      "provenance": [],
      "include_colab_link": true
    },
    "kernelspec": {
      "name": "python3",
      "display_name": "Python 3"
    }
  },
  "cells": [
    {
      "cell_type": "markdown",
      "metadata": {
        "id": "view-in-github",
        "colab_type": "text"
      },
      "source": [
        "<a href=\"https://colab.research.google.com/github/martorii/AILikesYou/blob/master/Colab_main.ipynb\" target=\"_parent\"><img src=\"https://colab.research.google.com/assets/colab-badge.svg\" alt=\"Open In Colab\"/></a>"
      ]
    },
    {
      "cell_type": "markdown",
      "metadata": {
        "id": "PdjNswp7HtPk",
        "colab_type": "text"
      },
      "source": [
        "# Rate profile pictures"
      ]
    },
    {
      "cell_type": "code",
      "metadata": {
        "id": "agXwCoJAH5Qh",
        "colab_type": "code",
        "colab": {}
      },
      "source": [
        "import numpy as np\n",
        "import tensorflow\n",
        "import keras"
      ],
      "execution_count": 0,
      "outputs": []
    },
    {
      "cell_type": "markdown",
      "metadata": {
        "id": "SOJ5JKVuIEOP",
        "colab_type": "text"
      },
      "source": [
        "## Get raw pictures"
      ]
    },
    {
      "cell_type": "code",
      "metadata": {
        "id": "q0s1veDmIk7E",
        "colab_type": "code",
        "colab": {}
      },
      "source": [
        ""
      ],
      "execution_count": 0,
      "outputs": []
    },
    {
      "cell_type": "markdown",
      "metadata": {
        "id": "6kQYmEFJIHer",
        "colab_type": "text"
      },
      "source": [
        "## Prepare the data"
      ]
    },
    {
      "cell_type": "markdown",
      "metadata": {
        "id": "8pxheUiGILKx",
        "colab_type": "text"
      },
      "source": [
        "## Create the neural network to be used"
      ]
    },
    {
      "cell_type": "markdown",
      "metadata": {
        "id": "jz4JJh67IQrP",
        "colab_type": "text"
      },
      "source": [
        "## Set the hyperparameters to train"
      ]
    },
    {
      "cell_type": "markdown",
      "metadata": {
        "id": "5AKpmiV-IW5M",
        "colab_type": "text"
      },
      "source": [
        "## Let it train and collect results"
      ]
    },
    {
      "cell_type": "markdown",
      "metadata": {
        "id": "xrcqnjp6IZQ8",
        "colab_type": "text"
      },
      "source": [
        "## Analyze scores and plot graphs"
      ]
    },
    {
      "cell_type": "markdown",
      "metadata": {
        "id": "sxSCxsvXIeml",
        "colab_type": "text"
      },
      "source": [
        "## Apply on the test set and get final score of the model"
      ]
    }
  ]
}